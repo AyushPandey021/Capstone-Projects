{
 "cells": [
  {
   "cell_type": "code",
   "execution_count": 54,
   "id": "0ac0102e",
   "metadata": {},
   "outputs": [],
   "source": [
    "import numpy as np\n",
    "import pandas as pd\n",
    "import matplotlib.pyplot as plt\n",
    "import seaborn as sns"
   ]
  },
  {
   "cell_type": "code",
   "execution_count": 55,
   "id": "2d65852e",
   "metadata": {},
   "outputs": [],
   "source": [
    "df  = pd.read_csv(\"customer_data.csv\")"
   ]
  },
  {
   "cell_type": "code",
   "execution_count": 56,
   "id": "e1baaabc",
   "metadata": {},
   "outputs": [
    {
     "data": {
      "text/html": [
       "<div>\n",
       "<style scoped>\n",
       "    .dataframe tbody tr th:only-of-type {\n",
       "        vertical-align: middle;\n",
       "    }\n",
       "\n",
       "    .dataframe tbody tr th {\n",
       "        vertical-align: top;\n",
       "    }\n",
       "\n",
       "    .dataframe thead th {\n",
       "        text-align: right;\n",
       "    }\n",
       "</style>\n",
       "<table border=\"1\" class=\"dataframe\">\n",
       "  <thead>\n",
       "    <tr style=\"text-align: right;\">\n",
       "      <th></th>\n",
       "      <th>CustomerID</th>\n",
       "      <th>Age</th>\n",
       "      <th>Gender</th>\n",
       "      <th>AnnualIncome</th>\n",
       "      <th>SpendingScore</th>\n",
       "      <th>City</th>\n",
       "      <th>ProductCategory</th>\n",
       "      <th>PurchaseAmount</th>\n",
       "      <th>MembershipStatus</th>\n",
       "    </tr>\n",
       "  </thead>\n",
       "  <tbody>\n",
       "    <tr>\n",
       "      <th>0</th>\n",
       "      <td>1</td>\n",
       "      <td>56</td>\n",
       "      <td>Male</td>\n",
       "      <td>65648</td>\n",
       "      <td>5</td>\n",
       "      <td>Hyderabad</td>\n",
       "      <td>Groceries</td>\n",
       "      <td>3419.45</td>\n",
       "      <td>Gold</td>\n",
       "    </tr>\n",
       "    <tr>\n",
       "      <th>1</th>\n",
       "      <td>2</td>\n",
       "      <td>69</td>\n",
       "      <td>Male</td>\n",
       "      <td>123537</td>\n",
       "      <td>84</td>\n",
       "      <td>Mumbai</td>\n",
       "      <td>Electronics</td>\n",
       "      <td>2199.44</td>\n",
       "      <td>Platinum</td>\n",
       "    </tr>\n",
       "    <tr>\n",
       "      <th>2</th>\n",
       "      <td>3</td>\n",
       "      <td>46</td>\n",
       "      <td>Male</td>\n",
       "      <td>145991</td>\n",
       "      <td>65</td>\n",
       "      <td>Delhi</td>\n",
       "      <td>Books</td>\n",
       "      <td>3684.33</td>\n",
       "      <td>Gold</td>\n",
       "    </tr>\n",
       "    <tr>\n",
       "      <th>3</th>\n",
       "      <td>4</td>\n",
       "      <td>32</td>\n",
       "      <td>Female</td>\n",
       "      <td>29516</td>\n",
       "      <td>30</td>\n",
       "      <td>Delhi</td>\n",
       "      <td>Books</td>\n",
       "      <td>4139.91</td>\n",
       "      <td>Silver</td>\n",
       "    </tr>\n",
       "    <tr>\n",
       "      <th>4</th>\n",
       "      <td>5</td>\n",
       "      <td>60</td>\n",
       "      <td>Male</td>\n",
       "      <td>132863</td>\n",
       "      <td>21</td>\n",
       "      <td>Chennai</td>\n",
       "      <td>Groceries</td>\n",
       "      <td>817.54</td>\n",
       "      <td>Gold</td>\n",
       "    </tr>\n",
       "  </tbody>\n",
       "</table>\n",
       "</div>"
      ],
      "text/plain": [
       "   CustomerID  Age  Gender  AnnualIncome  SpendingScore       City  \\\n",
       "0           1   56    Male         65648              5  Hyderabad   \n",
       "1           2   69    Male        123537             84     Mumbai   \n",
       "2           3   46    Male        145991             65      Delhi   \n",
       "3           4   32  Female         29516             30      Delhi   \n",
       "4           5   60    Male        132863             21    Chennai   \n",
       "\n",
       "  ProductCategory  PurchaseAmount MembershipStatus  \n",
       "0       Groceries         3419.45             Gold  \n",
       "1     Electronics         2199.44         Platinum  \n",
       "2           Books         3684.33             Gold  \n",
       "3           Books         4139.91           Silver  \n",
       "4       Groceries          817.54             Gold  "
      ]
     },
     "execution_count": 56,
     "metadata": {},
     "output_type": "execute_result"
    }
   ],
   "source": [
    "df.head()"
   ]
  },
  {
   "cell_type": "code",
   "execution_count": 57,
   "id": "e8910ed9",
   "metadata": {},
   "outputs": [
    {
     "data": {
      "text/plain": [
       "CustomerID          0\n",
       "Age                 0\n",
       "Gender              0\n",
       "AnnualIncome        0\n",
       "SpendingScore       0\n",
       "City                0\n",
       "ProductCategory     0\n",
       "PurchaseAmount      0\n",
       "MembershipStatus    0\n",
       "dtype: int64"
      ]
     },
     "execution_count": 57,
     "metadata": {},
     "output_type": "execute_result"
    }
   ],
   "source": [
    "#check null values\n",
    "df.isnull().sum()"
   ]
  },
  {
   "cell_type": "code",
   "execution_count": 58,
   "id": "02416e59",
   "metadata": {},
   "outputs": [
    {
     "data": {
      "text/html": [
       "<div>\n",
       "<style scoped>\n",
       "    .dataframe tbody tr th:only-of-type {\n",
       "        vertical-align: middle;\n",
       "    }\n",
       "\n",
       "    .dataframe tbody tr th {\n",
       "        vertical-align: top;\n",
       "    }\n",
       "\n",
       "    .dataframe thead th {\n",
       "        text-align: right;\n",
       "    }\n",
       "</style>\n",
       "<table border=\"1\" class=\"dataframe\">\n",
       "  <thead>\n",
       "    <tr style=\"text-align: right;\">\n",
       "      <th></th>\n",
       "      <th>CustomerID</th>\n",
       "      <th>Age</th>\n",
       "      <th>AnnualIncome</th>\n",
       "      <th>SpendingScore</th>\n",
       "      <th>PurchaseAmount</th>\n",
       "    </tr>\n",
       "  </thead>\n",
       "  <tbody>\n",
       "    <tr>\n",
       "      <th>count</th>\n",
       "      <td>1000.000000</td>\n",
       "      <td>1000.00000</td>\n",
       "      <td>1000.000000</td>\n",
       "      <td>1000.00000</td>\n",
       "      <td>1000.000000</td>\n",
       "    </tr>\n",
       "    <tr>\n",
       "      <th>mean</th>\n",
       "      <td>500.500000</td>\n",
       "      <td>43.81900</td>\n",
       "      <td>87130.677000</td>\n",
       "      <td>48.82600</td>\n",
       "      <td>2494.475220</td>\n",
       "    </tr>\n",
       "    <tr>\n",
       "      <th>std</th>\n",
       "      <td>288.819436</td>\n",
       "      <td>14.99103</td>\n",
       "      <td>38333.193443</td>\n",
       "      <td>29.12181</td>\n",
       "      <td>1412.172759</td>\n",
       "    </tr>\n",
       "    <tr>\n",
       "      <th>min</th>\n",
       "      <td>1.000000</td>\n",
       "      <td>18.00000</td>\n",
       "      <td>20207.000000</td>\n",
       "      <td>1.00000</td>\n",
       "      <td>100.150000</td>\n",
       "    </tr>\n",
       "    <tr>\n",
       "      <th>25%</th>\n",
       "      <td>250.750000</td>\n",
       "      <td>31.00000</td>\n",
       "      <td>52723.250000</td>\n",
       "      <td>22.00000</td>\n",
       "      <td>1262.985000</td>\n",
       "    </tr>\n",
       "    <tr>\n",
       "      <th>50%</th>\n",
       "      <td>500.500000</td>\n",
       "      <td>44.00000</td>\n",
       "      <td>88482.000000</td>\n",
       "      <td>48.00000</td>\n",
       "      <td>2469.385000</td>\n",
       "    </tr>\n",
       "    <tr>\n",
       "      <th>75%</th>\n",
       "      <td>750.250000</td>\n",
       "      <td>56.00000</td>\n",
       "      <td>121396.750000</td>\n",
       "      <td>74.00000</td>\n",
       "      <td>3687.582500</td>\n",
       "    </tr>\n",
       "    <tr>\n",
       "      <th>max</th>\n",
       "      <td>1000.000000</td>\n",
       "      <td>69.00000</td>\n",
       "      <td>149839.000000</td>\n",
       "      <td>99.00000</td>\n",
       "      <td>4988.970000</td>\n",
       "    </tr>\n",
       "  </tbody>\n",
       "</table>\n",
       "</div>"
      ],
      "text/plain": [
       "        CustomerID         Age   AnnualIncome  SpendingScore  PurchaseAmount\n",
       "count  1000.000000  1000.00000    1000.000000     1000.00000     1000.000000\n",
       "mean    500.500000    43.81900   87130.677000       48.82600     2494.475220\n",
       "std     288.819436    14.99103   38333.193443       29.12181     1412.172759\n",
       "min       1.000000    18.00000   20207.000000        1.00000      100.150000\n",
       "25%     250.750000    31.00000   52723.250000       22.00000     1262.985000\n",
       "50%     500.500000    44.00000   88482.000000       48.00000     2469.385000\n",
       "75%     750.250000    56.00000  121396.750000       74.00000     3687.582500\n",
       "max    1000.000000    69.00000  149839.000000       99.00000     4988.970000"
      ]
     },
     "execution_count": 58,
     "metadata": {},
     "output_type": "execute_result"
    }
   ],
   "source": [
    "# description of the data \n",
    "df.describe()"
   ]
  },
  {
   "cell_type": "code",
   "execution_count": 59,
   "id": "b0a68ca2",
   "metadata": {},
   "outputs": [
    {
     "data": {
      "text/plain": [
       "array(['Groceries', 'Electronics', 'Books', 'Clothing', 'Home Decor'],\n",
       "      dtype=object)"
      ]
     },
     "execution_count": 59,
     "metadata": {},
     "output_type": "execute_result"
    }
   ],
   "source": [
    "df[\"ProductCategory\"].unique()\n"
   ]
  },
  {
   "cell_type": "code",
   "execution_count": 60,
   "id": "7ff4b3de",
   "metadata": {},
   "outputs": [
    {
     "data": {
      "image/png": "[encoded data removed]",
      "text/plain": [
       "<Figure size 640x480 with 1 Axes>"
      ]
     },
     "metadata": {},
     "output_type": "display_data"
    }
   ],
   "source": [
    "# Plot a pie chart of customer distribution by Gender.\n",
    "gender = df['Gender'].value_counts()\n",
    "plt.pie(gender,labels=gender.index,  autopct='%11f%%', startangle=90, colors=['lightblue', 'lightpink', 'lightgreen'])\n",
    "plt.title(\"Customer Distribution by Gender\")\n",
    "plt.axis('equal')\n",
    "plt.show()"
   ]
  },
  {
   "cell_type": "code",
   "execution_count": null,
   "id": "1289fa36",
   "metadata": {},
   "outputs": [
    {
     "name": "stdout",
     "output_type": "stream",
     "text": [
      "Gender\n",
      "Female    2501.627668\n",
      "Male      2487.977958\n",
      "Name: PurchaseAmount, dtype: float64\n"
     ]
    },
    {
     "data": {
      "image/png": "[encoded data removed]",
      "text/plain": [
       "<Figure size 640x480 with 1 Axes>"
      ]
     },
     "metadata": {},
     "output_type": "display_data"
    }
   ],
   "source": [
    "\n",
    "# Average PurchaseAmount per Gender.\n",
    "avg = df.groupby('Gender')['PurchaseAmount'].mean()\n",
    "\n",
    "\n",
    "\n",
    "print(avg)\n",
    "\n",
    "avg.plot(kind='bar', color=['gray', 'brown'])\n",
    "plt.ylabel('Average Purchase Amount')\n",
    "plt.title('Average Purchase Amount by Gender')\n",
    "plt.show()"
   ]
  },
  {
   "cell_type": "code",
   "execution_count": 102,
   "id": "e2f700ce",
   "metadata": {},
   "outputs": [
    {
     "name": "stdout",
     "output_type": "stream",
     "text": [
      "AgeGroup\n",
      "18-25    2489.909351\n",
      "26-35    2483.271850\n",
      "Name: PurchaseAmount, dtype: float64\n"
     ]
    },
    {
     "name": "stderr",
     "output_type": "stream",
     "text": [
      "C:\\Users\\vloga\\AppData\\Local\\Temp\\ipykernel_21384\\2910550336.py:9: FutureWarning: The default of observed=False is deprecated and will be changed to True in a future version of pandas. Pass observed=False to retain current behavior or observed=True to adopt the future default and silence this warning.\n",
      "  avg_purchase_age = df.groupby('AgeGroup')['PurchaseAmount'].mean()\n"
     ]
    },
    {
     "data": {
      "image/png": "[encoded data removed]",
      "text/plain": [
       "<Figure size 640x480 with 1 Axes>"
      ]
     },
     "metadata": {},
     "output_type": "display_data"
    }
   ],
   "source": [
    "\n",
    "# Which age group spends the most? Use binning for Age: (18-25, 26-35)✅\n",
    "bins = [17, 25, 35]  # use 17 to include 18, and 35 to include up to 35\n",
    "labels = ['18-25', '26-35']\n",
    "\n",
    "# Create AgeGroup column\n",
    "df['AgeGroup'] = pd.cut(df['Age'], bins=bins, labels=labels, right=True)\n",
    "\n",
    "# Group by AgeGroup and calculate average PurchaseAmount\n",
    "avg_purchase_age = df.groupby('AgeGroup')['PurchaseAmount'].mean()\n",
    "\n",
    "# Print result\n",
    "print(avg_purchase_age)\n",
    "\n",
    "# Optional: Plot\n",
    "avg_purchase_age.plot(kind='bar', color='brown')\n",
    "plt.title('Average Purchase Amount by Age Group (18-35)')\n",
    "plt.ylabel('Average Purchase Amount')\n",
    "plt.xticks(rotation=0)\n",
    "plt.show()\n"
   ]
  },
  {
   "cell_type": "code",
   "execution_count": 66,
   "id": "705ead3e",
   "metadata": {},
   "outputs": [
    {
     "data": {
      "text/html": [
       "<div>\n",
       "<style scoped>\n",
       "    .dataframe tbody tr th:only-of-type {\n",
       "        vertical-align: middle;\n",
       "    }\n",
       "\n",
       "    .dataframe tbody tr th {\n",
       "        vertical-align: top;\n",
       "    }\n",
       "\n",
       "    .dataframe thead th {\n",
       "        text-align: right;\n",
       "    }\n",
       "</style>\n",
       "<table border=\"1\" class=\"dataframe\">\n",
       "  <thead>\n",
       "    <tr style=\"text-align: right;\">\n",
       "      <th></th>\n",
       "      <th>CustomerID</th>\n",
       "      <th>Age</th>\n",
       "      <th>Gender</th>\n",
       "      <th>AnnualIncome</th>\n",
       "      <th>SpendingScore</th>\n",
       "      <th>City</th>\n",
       "      <th>ProductCategory</th>\n",
       "      <th>PurchaseAmount</th>\n",
       "      <th>MembershipStatus</th>\n",
       "    </tr>\n",
       "  </thead>\n",
       "  <tbody>\n",
       "    <tr>\n",
       "      <th>0</th>\n",
       "      <td>1</td>\n",
       "      <td>56</td>\n",
       "      <td>Male</td>\n",
       "      <td>65648</td>\n",
       "      <td>5</td>\n",
       "      <td>Hyderabad</td>\n",
       "      <td>Groceries</td>\n",
       "      <td>3419.45</td>\n",
       "      <td>Gold</td>\n",
       "    </tr>\n",
       "    <tr>\n",
       "      <th>1</th>\n",
       "      <td>2</td>\n",
       "      <td>69</td>\n",
       "      <td>Male</td>\n",
       "      <td>123537</td>\n",
       "      <td>84</td>\n",
       "      <td>Mumbai</td>\n",
       "      <td>Electronics</td>\n",
       "      <td>2199.44</td>\n",
       "      <td>Platinum</td>\n",
       "    </tr>\n",
       "    <tr>\n",
       "      <th>2</th>\n",
       "      <td>3</td>\n",
       "      <td>46</td>\n",
       "      <td>Male</td>\n",
       "      <td>145991</td>\n",
       "      <td>65</td>\n",
       "      <td>Delhi</td>\n",
       "      <td>Books</td>\n",
       "      <td>3684.33</td>\n",
       "      <td>Gold</td>\n",
       "    </tr>\n",
       "    <tr>\n",
       "      <th>3</th>\n",
       "      <td>4</td>\n",
       "      <td>32</td>\n",
       "      <td>Female</td>\n",
       "      <td>29516</td>\n",
       "      <td>30</td>\n",
       "      <td>Delhi</td>\n",
       "      <td>Books</td>\n",
       "      <td>4139.91</td>\n",
       "      <td>Silver</td>\n",
       "    </tr>\n",
       "    <tr>\n",
       "      <th>4</th>\n",
       "      <td>5</td>\n",
       "      <td>60</td>\n",
       "      <td>Male</td>\n",
       "      <td>132863</td>\n",
       "      <td>21</td>\n",
       "      <td>Chennai</td>\n",
       "      <td>Groceries</td>\n",
       "      <td>817.54</td>\n",
       "      <td>Gold</td>\n",
       "    </tr>\n",
       "  </tbody>\n",
       "</table>\n",
       "</div>"
      ],
      "text/plain": [
       "   CustomerID  Age  Gender  AnnualIncome  SpendingScore       City  \\\n",
       "0           1   56    Male         65648              5  Hyderabad   \n",
       "1           2   69    Male        123537             84     Mumbai   \n",
       "2           3   46    Male        145991             65      Delhi   \n",
       "3           4   32  Female         29516             30      Delhi   \n",
       "4           5   60    Male        132863             21    Chennai   \n",
       "\n",
       "  ProductCategory  PurchaseAmount MembershipStatus  \n",
       "0       Groceries         3419.45             Gold  \n",
       "1     Electronics         2199.44         Platinum  \n",
       "2           Books         3684.33             Gold  \n",
       "3           Books         4139.91           Silver  \n",
       "4       Groceries          817.54             Gold  "
      ]
     },
     "execution_count": 66,
     "metadata": {},
     "output_type": "execute_result"
    }
   ],
   "source": [
    "df.head()"
   ]
  },
  {
   "cell_type": "code",
   "execution_count": 108,
   "id": "f8fcc945",
   "metadata": {},
   "outputs": [
    {
     "data": {
      "text/plain": [
       "Text(0.5, 1.0, 'The Revenue By City.')"
      ]
     },
     "execution_count": 108,
     "metadata": {},
     "output_type": "execute_result"
    },
    {
     "data": {
      "image/png": "[encoded data removed]",
      "text/plain": [
       "<Figure size 640x480 with 1 Axes>"
      ]
     },
     "metadata": {},
     "output_type": "display_data"
    }
   ],
   "source": [
    "# find total revenue of all city \n",
    "cityrevenue=df.groupby(\"City\")[\"PurchaseAmount\"].sum()\n",
    "\n",
    "cityrevenue.plot(kind=\"bar\",color=\"purple\")\n",
    "plt.title('The Revenue By City.')\n"
   ]
  },
  {
   "cell_type": "code",
   "execution_count": null,
   "id": "a05fe13a",
   "metadata": {},
   "outputs": [
    {
     "data": {
      "text/html": [
       "<div>\n",
       "<style scoped>\n",
       "    .dataframe tbody tr th:only-of-type {\n",
       "        vertical-align: middle;\n",
       "    }\n",
       "\n",
       "    .dataframe tbody tr th {\n",
       "        vertical-align: top;\n",
       "    }\n",
       "\n",
       "    .dataframe thead th {\n",
       "        text-align: right;\n",
       "    }\n",
       "</style>\n",
       "<table border=\"1\" class=\"dataframe\">\n",
       "  <thead>\n",
       "    <tr style=\"text-align: right;\">\n",
       "      <th></th>\n",
       "      <th>PurchaseAmount</th>\n",
       "      <th>SpendingScore</th>\n",
       "    </tr>\n",
       "    <tr>\n",
       "      <th>City</th>\n",
       "      <th></th>\n",
       "      <th></th>\n",
       "    </tr>\n",
       "  </thead>\n",
       "  <tbody>\n",
       "    <tr>\n",
       "      <th>Bangalore</th>\n",
       "      <td>2501.414976</td>\n",
       "      <td>50.448780</td>\n",
       "    </tr>\n",
       "    <tr>\n",
       "      <th>Chennai</th>\n",
       "      <td>2631.371250</td>\n",
       "      <td>50.894231</td>\n",
       "    </tr>\n",
       "    <tr>\n",
       "      <th>Delhi</th>\n",
       "      <td>2464.711934</td>\n",
       "      <td>48.745283</td>\n",
       "    </tr>\n",
       "    <tr>\n",
       "      <th>Hyderabad</th>\n",
       "      <td>2318.427959</td>\n",
       "      <td>48.831633</td>\n",
       "    </tr>\n",
       "    <tr>\n",
       "      <th>Mumbai</th>\n",
       "      <td>2555.469944</td>\n",
       "      <td>44.653631</td>\n",
       "    </tr>\n",
       "  </tbody>\n",
       "</table>\n",
       "</div>"
      ],
      "text/plain": [
       "           PurchaseAmount  SpendingScore\n",
       "City                                    \n",
       "Bangalore     2501.414976      50.448780\n",
       "Chennai       2631.371250      50.894231\n",
       "Delhi         2464.711934      48.745283\n",
       "Hyderabad     2318.427959      48.831633\n",
       "Mumbai        2555.469944      44.653631"
      ]
     },
     "execution_count": 107,
     "metadata": {},
     "output_type": "execute_result"
    }
   ],
   "source": [
    "\n",
    "# Average SpendingScore per city.\n",
    "cityrevenueavg=df.groupby(\"City\")[[\"PurchaseAmount\",'SpendingScore']].mean()\n",
    "cityrevenueavg"
   ]
  },
  {
   "cell_type": "code",
   "execution_count": 114,
   "id": "ba919e16",
   "metadata": {},
   "outputs": [
    {
     "data": {
      "text/plain": [
       "Text(0.5, 1.0, 'Avarage spending score data by city.')"
      ]
     },
     "execution_count": 114,
     "metadata": {},
     "output_type": "execute_result"
    },
    {
     "data": {
      "image/png": "[encoded data removed]",
      "text/plain": [
       "<Figure size 640x480 with 1 Axes>"
      ]
     },
     "metadata": {},
     "output_type": "display_data"
    }
   ],
   "source": [
    "avg_revenue_score=df.groupby(\"City\")['SpendingScore'].mean()\n",
    "avg_revenue_score.plot(kind='bar',color=\"coral\")\n",
    "plt.title('Avarage spending score data by city.')"
   ]
  },
  {
   "cell_type": "code",
   "execution_count": 115,
   "id": "49ec47ac",
   "metadata": {},
   "outputs": [
    {
     "data": {
      "text/html": [
       "<div>\n",
       "<style scoped>\n",
       "    .dataframe tbody tr th:only-of-type {\n",
       "        vertical-align: middle;\n",
       "    }\n",
       "\n",
       "    .dataframe tbody tr th {\n",
       "        vertical-align: top;\n",
       "    }\n",
       "\n",
       "    .dataframe thead th {\n",
       "        text-align: right;\n",
       "    }\n",
       "</style>\n",
       "<table border=\"1\" class=\"dataframe\">\n",
       "  <thead>\n",
       "    <tr style=\"text-align: right;\">\n",
       "      <th></th>\n",
       "      <th>CustomerID</th>\n",
       "      <th>Age</th>\n",
       "      <th>Gender</th>\n",
       "      <th>AnnualIncome</th>\n",
       "      <th>SpendingScore</th>\n",
       "      <th>City</th>\n",
       "      <th>ProductCategory</th>\n",
       "      <th>PurchaseAmount</th>\n",
       "      <th>MembershipStatus</th>\n",
       "      <th>AgeGroup</th>\n",
       "    </tr>\n",
       "  </thead>\n",
       "  <tbody>\n",
       "    <tr>\n",
       "      <th>0</th>\n",
       "      <td>1</td>\n",
       "      <td>56</td>\n",
       "      <td>Male</td>\n",
       "      <td>65648</td>\n",
       "      <td>5</td>\n",
       "      <td>Hyderabad</td>\n",
       "      <td>Groceries</td>\n",
       "      <td>3419.45</td>\n",
       "      <td>Gold</td>\n",
       "      <td>NaN</td>\n",
       "    </tr>\n",
       "    <tr>\n",
       "      <th>1</th>\n",
       "      <td>2</td>\n",
       "      <td>69</td>\n",
       "      <td>Male</td>\n",
       "      <td>123537</td>\n",
       "      <td>84</td>\n",
       "      <td>Mumbai</td>\n",
       "      <td>Electronics</td>\n",
       "      <td>2199.44</td>\n",
       "      <td>Platinum</td>\n",
       "      <td>NaN</td>\n",
       "    </tr>\n",
       "    <tr>\n",
       "      <th>2</th>\n",
       "      <td>3</td>\n",
       "      <td>46</td>\n",
       "      <td>Male</td>\n",
       "      <td>145991</td>\n",
       "      <td>65</td>\n",
       "      <td>Delhi</td>\n",
       "      <td>Books</td>\n",
       "      <td>3684.33</td>\n",
       "      <td>Gold</td>\n",
       "      <td>NaN</td>\n",
       "    </tr>\n",
       "    <tr>\n",
       "      <th>3</th>\n",
       "      <td>4</td>\n",
       "      <td>32</td>\n",
       "      <td>Female</td>\n",
       "      <td>29516</td>\n",
       "      <td>30</td>\n",
       "      <td>Delhi</td>\n",
       "      <td>Books</td>\n",
       "      <td>4139.91</td>\n",
       "      <td>Silver</td>\n",
       "      <td>26-35</td>\n",
       "    </tr>\n",
       "    <tr>\n",
       "      <th>4</th>\n",
       "      <td>5</td>\n",
       "      <td>60</td>\n",
       "      <td>Male</td>\n",
       "      <td>132863</td>\n",
       "      <td>21</td>\n",
       "      <td>Chennai</td>\n",
       "      <td>Groceries</td>\n",
       "      <td>817.54</td>\n",
       "      <td>Gold</td>\n",
       "      <td>NaN</td>\n",
       "    </tr>\n",
       "    <tr>\n",
       "      <th>...</th>\n",
       "      <td>...</td>\n",
       "      <td>...</td>\n",
       "      <td>...</td>\n",
       "      <td>...</td>\n",
       "      <td>...</td>\n",
       "      <td>...</td>\n",
       "      <td>...</td>\n",
       "      <td>...</td>\n",
       "      <td>...</td>\n",
       "      <td>...</td>\n",
       "    </tr>\n",
       "    <tr>\n",
       "      <th>995</th>\n",
       "      <td>996</td>\n",
       "      <td>60</td>\n",
       "      <td>Female</td>\n",
       "      <td>92982</td>\n",
       "      <td>6</td>\n",
       "      <td>Mumbai</td>\n",
       "      <td>Electronics</td>\n",
       "      <td>3450.96</td>\n",
       "      <td>Platinum</td>\n",
       "      <td>NaN</td>\n",
       "    </tr>\n",
       "    <tr>\n",
       "      <th>996</th>\n",
       "      <td>997</td>\n",
       "      <td>64</td>\n",
       "      <td>Male</td>\n",
       "      <td>122747</td>\n",
       "      <td>90</td>\n",
       "      <td>Bangalore</td>\n",
       "      <td>Groceries</td>\n",
       "      <td>224.21</td>\n",
       "      <td>Silver</td>\n",
       "      <td>NaN</td>\n",
       "    </tr>\n",
       "    <tr>\n",
       "      <th>997</th>\n",
       "      <td>998</td>\n",
       "      <td>62</td>\n",
       "      <td>Female</td>\n",
       "      <td>75922</td>\n",
       "      <td>27</td>\n",
       "      <td>Bangalore</td>\n",
       "      <td>Clothing</td>\n",
       "      <td>3481.23</td>\n",
       "      <td>Platinum</td>\n",
       "      <td>NaN</td>\n",
       "    </tr>\n",
       "    <tr>\n",
       "      <th>998</th>\n",
       "      <td>999</td>\n",
       "      <td>35</td>\n",
       "      <td>Male</td>\n",
       "      <td>68231</td>\n",
       "      <td>8</td>\n",
       "      <td>Chennai</td>\n",
       "      <td>Clothing</td>\n",
       "      <td>1648.90</td>\n",
       "      <td>Gold</td>\n",
       "      <td>26-35</td>\n",
       "    </tr>\n",
       "    <tr>\n",
       "      <th>999</th>\n",
       "      <td>1000</td>\n",
       "      <td>55</td>\n",
       "      <td>Male</td>\n",
       "      <td>49301</td>\n",
       "      <td>83</td>\n",
       "      <td>Hyderabad</td>\n",
       "      <td>Clothing</td>\n",
       "      <td>373.13</td>\n",
       "      <td>Platinum</td>\n",
       "      <td>NaN</td>\n",
       "    </tr>\n",
       "  </tbody>\n",
       "</table>\n",
       "<p>1000 rows × 10 columns</p>\n",
       "</div>"
      ],
      "text/plain": [
       "     CustomerID  Age  Gender  AnnualIncome  SpendingScore       City  \\\n",
       "0             1   56    Male         65648              5  Hyderabad   \n",
       "1             2   69    Male        123537             84     Mumbai   \n",
       "2             3   46    Male        145991             65      Delhi   \n",
       "3             4   32  Female         29516             30      Delhi   \n",
       "4             5   60    Male        132863             21    Chennai   \n",
       "..          ...  ...     ...           ...            ...        ...   \n",
       "995         996   60  Female         92982              6     Mumbai   \n",
       "996         997   64    Male        122747             90  Bangalore   \n",
       "997         998   62  Female         75922             27  Bangalore   \n",
       "998         999   35    Male         68231              8    Chennai   \n",
       "999        1000   55    Male         49301             83  Hyderabad   \n",
       "\n",
       "    ProductCategory  PurchaseAmount MembershipStatus AgeGroup  \n",
       "0         Groceries         3419.45             Gold      NaN  \n",
       "1       Electronics         2199.44         Platinum      NaN  \n",
       "2             Books         3684.33             Gold      NaN  \n",
       "3             Books         4139.91           Silver    26-35  \n",
       "4         Groceries          817.54             Gold      NaN  \n",
       "..              ...             ...              ...      ...  \n",
       "995     Electronics         3450.96         Platinum      NaN  \n",
       "996       Groceries          224.21           Silver      NaN  \n",
       "997        Clothing         3481.23         Platinum      NaN  \n",
       "998        Clothing         1648.90             Gold    26-35  \n",
       "999        Clothing          373.13         Platinum      NaN  \n",
       "\n",
       "[1000 rows x 10 columns]"
      ]
     },
     "execution_count": 115,
     "metadata": {},
     "output_type": "execute_result"
    }
   ],
   "source": [
    "df"
   ]
  },
  {
   "cell_type": "code",
   "execution_count": null,
   "id": "f815a85e",
   "metadata": {},
   "outputs": [
    {
     "data": {
      "text/plain": [
       "ProductCategory\n",
       "Books          522863.11\n",
       "Clothing       440770.29\n",
       "Electronics    469792.82\n",
       "Groceries      532808.04\n",
       "Home Decor     528240.96\n",
       "Name: PurchaseAmount, dtype: float64"
      ]
     },
     "execution_count": 130,
     "metadata": {},
     "output_type": "execute_result"
    }
   ],
   "source": [
    "# give me top  productcategories by total purcahase\n",
    "df.groupby('ProductCategory')['PurchaseAmount'].sum()"
   ]
  },
  {
   "cell_type": "code",
   "execution_count": null,
   "id": "e7c9015b",
   "metadata": {},
   "outputs": [],
   "source": [
    "Plot a boxplot of PurchaseAmount by ProductCategory.\n",
    "\n",
    "5. Membership Insights\n",
    "Countplot of MembershipStatus.\n",
    "\n",
    "Which membership group has the highest average spending?\n",
    "\n",
    "Are there spending differences between Gold, Silver, and Platinum members?\n",
    "\n",
    "6. Advanced (Optional Bonus)\n",
    "Use NumPy to compute Z-score of PurchaseAmount and identify outliers.\n",
    "\n",
    "Create a heatmap to visualize correlations between Age, AnnualIncome, SpendingScore, and PurchaseAmount.\n",
    "\n",
    "7. Conclusion\n",
    "Summarize 3 key insights from the data.\n",
    "\n",
    "Recommend 1 strategy to increase revenue."
   ]
  },
  {
   "cell_type": "code",
   "execution_count": null,
   "id": "38490a23",
   "metadata": {},
   "outputs": [],
   "source": []
  },
  {
   "cell_type": "code",
   "execution_count": null,
   "id": "c72fa065",
   "metadata": {},
   "outputs": [],
   "source": []
  }
 ],
 "metadata": {
  "kernelspec": {
   "display_name": "base",
   "language": "python",
   "name": "python3"
  },
  "language_info": {
   "codemirror_mode": {
    "name": "ipython",
    "version": 3
   },
   "file_extension": ".py",
   "mimetype": "text/x-python",
   "name": "python",
   "nbconvert_exporter": "python",
   "pygments_lexer": "ipython3",
   "version": "3.13.5"
  }
 },
 "nbformat": 4,
 "nbformat_minor": 5
}
